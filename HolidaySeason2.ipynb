{
 "cells": [
  {
   "cell_type": "markdown",
   "metadata": {},
   "source": [
    "# HackerEarth Deep Learning Challenge (using Microsoft Lobe)\n",
    "https://www.hackerearth.com/challenges/competitive/hackerearth-deep-learning-challenge-holidays/"
   ]
  },
  {
   "cell_type": "markdown",
   "metadata": {},
   "source": [
    "## Step 1: Segregate the training data into their respective class folders"
   ]
  },
  {
   "cell_type": "code",
   "execution_count": null,
   "metadata": {},
   "outputs": [],
   "source": [
    "pip install --user pandas\n",
    "pip install --user numpy==1.19.3 #latest version of numpy has a runtime error, so use 1.19.3"
   ]
  },
  {
   "cell_type": "code",
   "execution_count": 4,
   "metadata": {},
   "outputs": [],
   "source": [
    "# Read Index Data\n",
    "\n",
    "import pandas as pd\n",
    "data = pd.read_csv(\"./dataset/train.csv\")"
   ]
  },
  {
   "cell_type": "code",
   "execution_count": 15,
   "metadata": {},
   "outputs": [],
   "source": [
    "# Create Class-label folders\n",
    "\n",
    "from pathlib import Path\n",
    "\n",
    "folders = data.Class.unique()\n",
    "source = \"./dataset/train/\"\n",
    "dest_root = \"./dataset/train/\"\n",
    "\n",
    "for f in folders:\n",
    "    if not Path(dest_root+f).exists():\n",
    "        print(dest_root+f)\n",
    "        Path(dest_root+f).mkdir(mode=777,parents=False,exist_ok=True)"
   ]
  },
  {
   "source": [
    "# Move files to their respective Class-label folders\n",
    "import shutil\n",
    "import time\n",
    "\n",
    "source = \"./dataset/train/\"\n",
    "dest_root = \"./dataset/train/\"\n",
    "start_time = time.time()\n",
    "\n",
    "for row in data.itertuples(index=False):\n",
    "    #print(row.Image,row.Class)\n",
    "    shutil.move(source+row.Image,dest_root+row.Class)\n",
    "\n",
    "print(\"Time Taken = {} seconds\".format(time.time()-start_time))"
   ],
   "cell_type": "code",
   "metadata": {},
   "execution_count": null,
   "outputs": []
  },
  {
   "source": [
    "## Step 2: Train the model using Microsoft Lobe\n",
    "The prediction classes are 'Airplane', 'Candle', 'Christmas_Tree', 'Jacket', 'Snowman', 'Miscellaneous'.\n",
    "Model accuracy as of now is 94%\n"
   ],
   "cell_type": "markdown",
   "metadata": {}
  },
  {
   "source": [
    "## Step 3: Get prediction from the trained model"
   ],
   "cell_type": "markdown",
   "metadata": {}
  },
  {
   "cell_type": "code",
   "execution_count": 19,
   "metadata": {},
   "outputs": [],
   "source": [
    "# Get File Names\n",
    "\n",
    "import os\n",
    "test_folder = \"./dataset/test/\"\n",
    "x = os.listdir(test_folder)\n",
    "\n",
    "\n",
    "# Get  predictions and Write to CSV file\n",
    "import csv\n",
    "import requests\n",
    "from PIL import Image\n",
    "from lobe.image_utils import image_to_base64\n",
    "from lobe.results import ClassificationResult\n",
    "from lobe.api_client import send_image_predict_request\n",
    "\n",
    "with open('Predictions2.csv', 'w', newline='') as csvfile:\n",
    "    filewriter = csv.writer(csvfile, delimiter=',', quotechar='|', quoting=csv.QUOTE_MINIMAL)\n",
    "    filewriter.writerow(['Image','Class'])\n",
    "\n",
    "    for i in range(len(x)): \n",
    "        result = send_image_predict_request(Image.open(test_folder+x[i]),'http://localhost:38100/predict/57b516bc-4ea0-4350-a8db-bafdf6d063af')\n",
    "        filewriter.writerow([x[i],result.prediction])"
   ]
  },
  {
   "cell_type": "code",
   "execution_count": 14,
   "metadata": {},
   "outputs": [
    {
     "output_type": "stream",
     "name": "stdout",
     "text": [
      "Miscellaneous: 99.96849298477173%\nChristmas_Tree: 0.02604678156785667%\nAirplane: 0.005464666901389137%\nCandle: 2.7045119477264734e-07%\nSnowman: 9.808498457886117e-08%\nJacket: 2.8890674574899577e-09%\n"
     ]
    }
   ],
   "source": [
    "#only for test\n",
    "for label, confidence in result.labels:\n",
    "    print(f\"{label}: {confidence*100}%\")"
   ]
  }
 ],
 "metadata": {
  "kernelspec": {
   "display_name": "Python 3",
   "language": "python",
   "name": "python3"
  },
  "language_info": {
   "codemirror_mode": {
    "name": "ipython",
    "version": 3
   },
   "file_extension": ".py",
   "mimetype": "text/x-python",
   "name": "python",
   "nbconvert_exporter": "python",
   "pygments_lexer": "ipython3",
   "version": "3.7.9-final"
  }
 },
 "nbformat": 4,
 "nbformat_minor": 4
}