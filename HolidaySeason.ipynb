{
 "cells": [
  {
   "cell_type": "markdown",
   "metadata": {},
   "source": [
    "# HackerEarth Deep Learning Challenge (using Microsoft Lobe)\n",
    "https://www.hackerearth.com/challenges/competitive/hackerearth-deep-learning-challenge-holidays/"
   ]
  },
  {
   "cell_type": "markdown",
   "metadata": {},
   "source": [
    "## Step 1: Segregate the training data into their respective class folders"
   ]
  },
  {
   "cell_type": "code",
   "execution_count": null,
   "metadata": {},
   "outputs": [],
   "source": [
    "pip install --user pandas\n",
    "pip install --user numpy==1.19.3 #latest version of numpy has a runtime error, so use 1.19.3"
   ]
  },
  {
   "cell_type": "code",
   "execution_count": 4,
   "metadata": {},
   "outputs": [],
   "source": [
    "# Read Index Data\n",
    "\n",
    "import pandas as pd\n",
    "data = pd.read_csv(\"./dataset/train.csv\")"
   ]
  },
  {
   "cell_type": "code",
   "execution_count": 15,
   "metadata": {},
   "outputs": [],
   "source": [
    "# Create Class-label folders\n",
    "\n",
    "from pathlib import Path\n",
    "\n",
    "folders = data.Class.unique()\n",
    "source = \"./dataset/train/\"\n",
    "dest_root = \"./dataset/train/\"\n",
    "\n",
    "for f in folders:\n",
    "    if not Path(dest_root+f).exists():\n",
    "        print(dest_root+f)\n",
    "        Path(dest_root+f).mkdir(mode=777,parents=False,exist_ok=True)"
   ]
  },
  {
   "source": [
    "# Move files to their respective Class-label folders\n",
    "import shutil\n",
    "import time\n",
    "\n",
    "source = \"./dataset/train/\"\n",
    "dest_root = \"./dataset/train/\"\n",
    "start_time = time.time()\n",
    "\n",
    "for row in data.itertuples(index=False):\n",
    "    #print(row.Image,row.Class)\n",
    "    shutil.move(source+row.Image,dest_root+row.Class)\n",
    "\n",
    "print(\"Time Taken = {} seconds\".format(time.time()-start_time))"
   ],
   "cell_type": "code",
   "metadata": {},
   "execution_count": null,
   "outputs": []
  },
  {
   "source": [
    "## Step 2: Train the model using Microsoft Lobe\n",
    "Do not include training data from 'Miscellaneous' class for training. The primary prediction classes are 'Airplane', 'Candle', 'Christmas_Tree', 'Jacket', 'Snowman'. Anything else should be classified as 'Miscellaneous'.\n",
    "\n",
    "Output is shown below:\n",
    "\n",
    "![image.png](attachment:29b39cb2-a302-4995-b7c0-2167e31c3e41.png)\n",
    "![image.png](attachment:939f8643-1f42-49dc-b3ca-b9d31fed379d.png)"
   ],
   "cell_type": "markdown",
   "metadata": {}
  },
  {
   "source": [
    "## Step 3: Get prediction from the trained model"
   ],
   "cell_type": "markdown",
   "metadata": {}
  },
  {
   "cell_type": "code",
   "execution_count": 15,
   "metadata": {},
   "outputs": [],
   "source": [
    "# Get File Names\n",
    "\n",
    "import os\n",
    "test_folder = \"./dataset/test/\"\n",
    "x = os.listdir(test_folder)\n",
    "\n",
    "# Load Model\n",
    "from lobe import ImageModel\n",
    "model = ImageModel.load('C:/Python/PROJECTS/HolidaySeason/HolidaySeason TensorFlow')\n",
    "\n",
    "# Write predictions to CSV file\n",
    "import csv\n",
    "\n",
    "with open('mycsv.csv', 'w', newline='') as csvfile:\n",
    "    filewriter = csv.writer(csvfile, delimiter=',', quotechar='|', quoting=csv.QUOTE_MINIMAL)\n",
    "    filewriter.writerow(['Image','Class'])\n",
    "\n",
    "    for i in range(len(x)): \n",
    "        result = model.predict_from_file(test_folder+x[i])\n",
    "        filewriter.writerow([x[i],result.prediction])"
   ]
  }
 ],
 "metadata": {
  "kernelspec": {
   "display_name": "Python 3",
   "language": "python",
   "name": "python3"
  },
  "language_info": {
   "codemirror_mode": {
    "name": "ipython",
    "version": 3
   },
   "file_extension": ".py",
   "mimetype": "text/x-python",
   "name": "python",
   "nbconvert_exporter": "python",
   "pygments_lexer": "ipython3",
   "version": "3.7.9-final"
  }
 },
 "nbformat": 4,
 "nbformat_minor": 4
}